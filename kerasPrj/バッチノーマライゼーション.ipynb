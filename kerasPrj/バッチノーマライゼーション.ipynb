{
 "cells": [
  {
   "cell_type": "markdown",
   "metadata": {},
   "source": [
    "# バッチノーマライゼーション（batch normalization）\n",
    "学習を効率的に行う手法。ネットワークのノードからの出力を正規化することで、学習を安定化させる。"
   ]
  },
  {
   "cell_type": "markdown",
   "metadata": {},
   "source": [
    "## 方法\n",
    "$m$個のデータからなるミニバッチの集合\n",
    "\n",
    "$$\n",
    "B = \\{x_{i} | i = 1, \\dots, m\\}\n",
    "$$\n",
    "\n",
    "学習されたパラメータ\n",
    "\n",
    "$$\n",
    "\\gamma, \\beta\n",
    "$$\n",
    "\n",
    "があるとする。バッチノーマライゼーションの出力$y_{i}$は以下のように表される。\n",
    "\n",
    "$$\n",
    "y_{i} = \\gamma \\hat{x}_{i} + \\beta\n",
    "$$\n",
    "\n",
    "ここで、\n",
    "\n",
    "$$\n",
    "\\hat{x}_{i} = \\frac{ x_{i} - \\mu_{B} }{ \\sqrt{ \\sigma_{B}^{2} + \\epsilon }}\n",
    "$$\n",
    "\n",
    "$$\n",
    "\\mu_{B} = \\frac{1}{m} \\sum_{i=1}^{m} x_{i}\n",
    "$$\n",
    "\n",
    "$$\n",
    "\\sigma_{B} = \\frac{1}{m} \\sum_{i=1}^{m} ( x_{i} - \\mu_{B} )^2\n",
    "$$\n",
    "\n",
    "$y_{i}$は$x_{i}$をバッチ内のデータの平均、分散で正規化したものと言える。"
   ]
  },
  {
   "cell_type": "markdown",
   "metadata": {},
   "source": [
    "# 参考\n",
    "Batch Normalization：ニューラルネットワークの学習を加速させる汎用的で強力な手法,\n",
    "https://deepage.net/deep_learning/2016/10/26/batch_normalization.html"
   ]
  }
 ],
 "metadata": {
  "kernelspec": {
   "display_name": "Python 3",
   "language": "python",
   "name": "python3"
  },
  "language_info": {
   "codemirror_mode": {
    "name": "ipython",
    "version": 3
   },
   "file_extension": ".py",
   "mimetype": "text/x-python",
   "name": "python",
   "nbconvert_exporter": "python",
   "pygments_lexer": "ipython3",
   "version": "3.6.5"
  }
 },
 "nbformat": 4,
 "nbformat_minor": 2
}
