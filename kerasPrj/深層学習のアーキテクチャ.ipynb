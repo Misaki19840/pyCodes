{
 "cells": [
  {
   "cell_type": "markdown",
   "metadata": {},
   "source": [
    "# 深層学習のアーキテクチャ\n",
    "過去のILSVRC（ImageNet）の優勝アーキテクチャを追うと同行が分かる[1]。\n",
    "\n",
    "2012 AlexNet\n",
    "2014 GoogleNet.. 複数の畳み込み層を並列に繋げるInceptionモジュールを導入。\n",
    "2015 ResNet.. ショートカットを導入\n",
    "2017 SENet.. 特徴マップをチャネル毎に適応的に重み付けするAttentionの機構を導入\n",
    "\n",
    "Kerasでは以下のモデルが利用可能[2]\n",
    "-Xception\n",
    "-VGG16\n",
    "-VGG19\n",
    "-ResNet50\n",
    "-InceptionV3\n",
    "-InceptionResNetV2\n",
    "-MobileNet\n",
    "-DenseNet\n",
    "-NASNet\n",
    "-MobileNetV2"
   ]
  },
  {
   "cell_type": "markdown",
   "metadata": {},
   "source": [
    "# 参考\n",
    "[1]畳み込みニューラルネットワークの最新研究動向 (〜2017), https://qiita.com/yu4u/items/7e93c454c9410c4b5427\n",
    "\n",
    "[2]https://keras.io/ja/applications/"
   ]
  }
 ],
 "metadata": {
  "kernelspec": {
   "display_name": "Python 3",
   "language": "python",
   "name": "python3"
  },
  "language_info": {
   "codemirror_mode": {
    "name": "ipython",
    "version": 3
   },
   "file_extension": ".py",
   "mimetype": "text/x-python",
   "name": "python",
   "nbconvert_exporter": "python",
   "pygments_lexer": "ipython3",
   "version": "3.6.5"
  }
 },
 "nbformat": 4,
 "nbformat_minor": 2
}
