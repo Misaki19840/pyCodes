{
 "cells": [
  {
   "cell_type": "markdown",
   "metadata": {},
   "source": [
    "# 誤差逆伝搬は難しくないと思ったのでメモ\n",
    "\n",
    "多層パーセプトロンの誤差逆伝搬について。勾配法が分かれば理解できます。"
   ]
  },
  {
   "cell_type": "markdown",
   "metadata": {},
   "source": [
    "## 勾配法\n",
    "\n",
    "$ E(w) $を最小にする$ w $を求める方法。$w$に適当な初期値を与えて、以下の式を更新していけばよい。\n",
    "\n",
    "\\begin{equation}\n",
    "w \\leftarrow w - \\eta \\frac{d E(w)}{d w}\n",
    "\\tag{1}\n",
    "\\end{equation}\n",
    "\n",
    "現在地から勾配を求めて山を下るというイメージ。"
   ]
  },
  {
   "cell_type": "markdown",
   "metadata": {},
   "source": [
    "## 誤差逆伝搬\n",
    "\n",
    "ネットワークの絵を描くといつもユニットが沢山あって混乱していたが、４つだけを考えると分かりやすい。"
   ]
  },
  {
   "cell_type": "code",
   "execution_count": 3,
   "metadata": {},
   "outputs": [
    {
     "data": {
      "image/png": "[encoded data removed]",
      "text/plain": [
       "<IPython.core.display.Image object>"
      ]
     },
     "execution_count": 3,
     "metadata": {
      "image/png": {
       "width": 600
      }
     },
     "output_type": "execute_result"
    }
   ],
   "source": [
    "from IPython.display import Image\n",
    "Image(filename='./誤差逆伝搬について_img01.png', width=600)"
   ]
  },
  {
   "cell_type": "markdown",
   "metadata": {},
   "source": [
    "以下の順伝搬を持つネットワークの重み$w_{ji}$, $w_{kj}$を更新することを考える。\n",
    "\n",
    "\\begin{equation}\n",
    "a_{j} = \\Sigma_{i} w_{ji} z_{i} \n",
    "\\tag{2}\n",
    "\\end{equation}\n",
    "\n",
    "\\begin{equation}\n",
    "z_{j} = h( a_{j} )\n",
    "\\tag{3}\n",
    "\\end{equation}\n",
    "\n",
    "\\begin{equation}\n",
    "a_{k} = \\Sigma_{j} w_{kj} z_{j} \n",
    "\\tag{4}\n",
    "\\end{equation}\n",
    "\n",
    "\\begin{equation}\n",
    "y_{k} = g( a_{k} )\n",
    "\\tag{5}\n",
    "\\end{equation}\n",
    "\n",
    "ここで、$y_{k}$はネットワークの出力、$h$,$g$は活性化関数である。\n",
    "出力に対する教師データを$t_{k}$とすると、出力との二乗誤差は以下の式で表される。\n",
    "\n",
    "\\begin{equation}\n",
    "E = \\frac{1}{2} \\Sigma_k ( y_{k} - t_{k})^2\n",
    "\\tag{6}\n",
    "\\end{equation}\n",
    "\n",
    "(1)から、$w_{ji}$, $w_{kj}$を更新するにはそれぞれ、$\\frac{\\partial E}{\\partial w_{ji}}$, $\\frac{\\partial E}{\\partial w_{kj}}$を求めればよい。"
   ]
  },
  {
   "cell_type": "markdown",
   "metadata": {},
   "source": [
    "まず、 $\\frac{\\partial E}{\\partial w_{kj}}$を求める。微分の連鎖則を使って、\n",
    "\n",
    "\\begin{equation}\n",
    "\\frac{\\partial E}{\\partial w_{kj}} = \n",
    "\\frac{\\partial E}{\\partial a_{k}} \\frac{\\partial a_{k}}{\\partial w_{kj}} =\n",
    "\\delta_k z_j\n",
    "\\tag{7}\n",
    "\\end{equation}\n",
    "\n",
    "ここで、$ \\delta_k = \\frac{\\partial E}{\\partial a_{k}} $と置いた。$ \\delta_k $は誤差と呼ばれる。\n",
    "\n",
    "\\begin{equation}\n",
    "\\delta_k =\n",
    "\\frac{\\partial E}{\\partial a_{k}} =\n",
    "\\frac{\\partial E}{\\partial y_{k}} \\frac{\\partial y_{k}}{\\partial a_{k}} =\n",
    "( y_k - t_k ) g'( a_k )\n",
    "\\tag{8}\n",
    "\\end{equation}"
   ]
  },
  {
   "cell_type": "markdown",
   "metadata": {},
   "source": [
    "次に、$\\frac{\\partial E}{\\partial w_{ji}}$を求める。\n",
    "\n",
    "\\begin{equation}\n",
    "\\frac{\\partial E}{\\partial w_{ji}} = \n",
    "\\frac{\\partial E}{\\partial a_{j}} \\frac{\\partial a_{j}}{\\partial w_{ji}} =\n",
    "\\delta_j z_i\n",
    "\\tag{9}\n",
    "\\end{equation}\n",
    "\n",
    "$ \\delta_j = \\frac{\\partial E}{\\partial a_{j}} $とした。$ \\frac{\\partial E}{\\partial a_{j}} $は$j$に結合のある箇所すべてに対して評価することに気を付けて、以下のように表せる。\n",
    "\n",
    "\\begin{equation}\n",
    "\\delta_j =\n",
    "\\frac{\\partial E}{\\partial a_{j}} =\n",
    "\\Sigma_k \\frac{\\partial E}{\\partial a_{k}} \\frac{\\partial a_{k}}{\\partial a_{j}} =\n",
    "\\Sigma_k \\frac{\\partial E}{\\partial a_{k}} \\frac{\\partial a_{k}}{\\partial z_{j}} \\frac{\\partial z_{j}}{\\partial a_{j}} = \n",
    "\\Sigma_k \\delta_k w_{kj} h'( a_{j} ) = \n",
    " h'( a_{j} ) \\Sigma_k \\delta_k w_{kj}\n",
    "\\tag{10}\n",
    "\\end{equation}"
   ]
  },
  {
   "cell_type": "markdown",
   "metadata": {},
   "source": [
    "$ E $を$ N $個のサンプルに対して評価する場合は、サンプルごとに勾配を計算したものを$ \\frac{\\partial E_{n}}{\\partial w} $として、\n",
    "$ \\frac{\\partial E}{\\partial w} = \\Sigma_n \\frac{\\partial E_{n}}{\\partial w} $として求めればよい。"
   ]
  },
  {
   "cell_type": "markdown",
   "metadata": {},
   "source": [
    "## 参考\n",
    "C.M.ビショップ著, パターン認識と機械学習　上"
   ]
  },
  {
   "cell_type": "code",
   "execution_count": null,
   "metadata": {},
   "outputs": [],
   "source": []
  }
 ],
 "metadata": {
  "kernelspec": {
   "display_name": "Python 3",
   "language": "python",
   "name": "python3"
  },
  "language_info": {
   "codemirror_mode": {
    "name": "ipython",
    "version": 3
   },
   "file_extension": ".py",
   "mimetype": "text/x-python",
   "name": "python",
   "nbconvert_exporter": "python",
   "pygments_lexer": "ipython3",
   "version": "3.6.5"
  }
 },
 "nbformat": 4,
 "nbformat_minor": 2
}
