{
 "cells": [
  {
   "cell_type": "markdown",
   "metadata": {},
   "source": [
    "# 深層学習ベースの顔認証（Deep Face Recognition）について\n",
    "[1]に顔認識関係のサーベイがまとめられている。[2]の要約が参考になる。"
   ]
  },
  {
   "cell_type": "markdown",
   "metadata": {},
   "source": [
    " FRのタスクは二種類。\n",
    "- Face Varification: 1 vs.1で同一人物の判定をする\n",
    "- Face Identification: 1 vs. Mで判定\n",
    "どちらも深層学習ベースの特徴抽出器で得た特徴量をタスクに用いるのが主流。\n",
    "\n",
    "アーキテクチャはAlexNet,VGGNet,GoogleNet,ResNet,SENetなど主要なものがよく用いられている。\n",
    "LFW DATASETでの比較から、ResNetが高い正解率を出す傾向。\n",
    "\n",
    "損失関数にはCosface,Arcfaceなど独自のものが使われている。\n",
    "\n",
    "推論時にはCos距離やL2距離が用いられる。\n",
    "\n",
    "学習前の前処理には、画像を生成してトレーニングデータを増やす方法が使われる。\n",
    "\n",
    "顔画像データセットにはVGGface2,MS-celeb-1M,Megafaceなどがある。"
   ]
  },
  {
   "cell_type": "markdown",
   "metadata": {},
   "source": [
    "# 参考\n",
    "[1]Deep Face Recognition: A Survey, https://arxiv.org/pdf/1804.06655.pdf\n",
    "\n",
    "[2][DL輪読会]Deep Face Recognition: A Survey,https://www.slideshare.net/DeepLearningJP2016/dldeep-face-recognition-a-survey"
   ]
  },
  {
   "cell_type": "code",
   "execution_count": null,
   "metadata": {},
   "outputs": [],
   "source": []
  }
 ],
 "metadata": {
  "kernelspec": {
   "display_name": "Python 3",
   "language": "python",
   "name": "python3"
  },
  "language_info": {
   "codemirror_mode": {
    "name": "ipython",
    "version": 3
   },
   "file_extension": ".py",
   "mimetype": "text/x-python",
   "name": "python",
   "nbconvert_exporter": "python",
   "pygments_lexer": "ipython3",
   "version": "3.6.5"
  }
 },
 "nbformat": 4,
 "nbformat_minor": 2
}
