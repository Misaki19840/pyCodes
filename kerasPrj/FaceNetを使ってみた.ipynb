{
 "cells": [
  {
   "cell_type": "markdown",
   "metadata": {},
   "source": [
    "# FaceNetを使ってみた\n",
    "[1]の実装を使ってみた。FaceNetの論文は[2],解説は[3]が参考になる。\n",
    "\n",
    "## FaceNetの特徴\n",
    "- 損失関数にTripletLossを使用\n",
    "同一ラベル画像間の距離 - 異なるラベル画像間の距離をLossとしている"
   ]
  },
  {
   "cell_type": "markdown",
   "metadata": {},
   "source": [
    "## FLWのテスト結果\n",
    "\n",
    "- CASIA-WebFaceで学習したネットワーク\n",
    "\n",
    "`\n",
    "python ./src/validate_on_lfw.py ./datasets/lfw/lfw_mtcnnpy_160 ./models/facenet/20180402-114759 --distance_metric 1 --use_flipped_images --subtract_mean --use_fixed_image_standardization\n",
    "`\n",
    "\n",
    "Accuracy: 0.99133+-0.00433\n",
    "Validation rate: 0.96367+-0.01636 @ FAR=0.00067\n",
    "Area Under Curve (AUC): 0.999\n",
    "Equal Error Rate (EER): 0.009\n",
    "\n",
    "\n",
    "- VGGFace2で学習したネットワーク\n",
    "\n",
    "`\n",
    "python ./src/validate_on_lfw.py ./datasets/lfw/lfw_mtcnnpy_160 ./models/facenet/20180402-114759 --distance_metric 1 --use_flipped_images --subtract_mean --use_fixed_image_standardization\n",
    "`\n",
    "\n",
    "Accuracy: 0.99550+-0.00342\n",
    "Validation rate: 0.98600+-0.00975 @ FAR=0.00100\n",
    "Area Under Curve (AUC): 1.000\n",
    "Equal Error Rate (EER): 0.004"
   ]
  },
  {
   "cell_type": "markdown",
   "metadata": {},
   "source": [
    "## 画像間の二乗距離の計算\n",
    "\n",
    "`\n",
    "python myCompare.py\n",
    "`\n",
    "\n",
    "Images:\n",
    "0: ../data_faces160\\Aaron_Peirsol_0001.png\n",
    "1: ../data_faces160\\Aaron_Peirsol_0002.png\n",
    "2: ../data_faces160\\Aaron_Peirsol_0003.png\n",
    "3: ../data_faces160\\Aaron_Peirsol_0004.png\n",
    "4: ../data_faces160\\Abdoulaye_Wade_0001.png\n",
    "5: ../data_faces160\\Abdoulaye_Wade_0002.png\n",
    "6: ../data_faces160\\Abdoulaye_Wade_0003.png\n",
    "7: ../data_faces160\\Abdoulaye_Wade_0004.png\n",
    "8: ../data_faces160\\Gwyneth_Paltrow_0002.png\n",
    "9: ../data_faces160\\Gwyneth_Paltrow_0003.png\n",
    "10: ../data_faces160\\Gwyneth_Paltrow_0004.png\n",
    "11: ../data_faces160\\Gwyneth_Paltrow_0005.png\n",
    "\n",
    "Distance matrix\n",
    "        0         1         2         3         4         5         6         7         8         9         10         11     \n",
    "0    0.0000    0.5098    0.5838    0.9169    1.2770    1.2875    1.2848    1.3606    1.3319    1.4597    1.4316    1.3801  \n",
    "1    0.5098    0.0000    0.5223    0.8168    1.3412    1.3071    1.3386    1.4002    1.3613    1.4762    1.3488    1.3934  \n",
    "2    0.5838    0.5223    0.0000    0.7879    1.3847    1.3241    1.3285    1.4294    1.3718    1.4227    1.3658    1.3440  \n",
    "3    0.9169    0.8168    0.7879    0.0000    1.3728    1.3913    1.3758    1.4902    1.4947    1.3503    1.2989    1.2787  \n",
    "4    1.2770    1.3412    1.3847    1.3728    0.0000    0.6764    0.8460    0.7449    1.4669    1.3798    1.4454    1.4057  \n",
    "5    1.2875    1.3071    1.3241    1.3913    0.6764    0.0000    0.7027    0.5202    1.3832    1.3628    1.3247    1.3329  \n",
    "6    1.2848    1.3386    1.3285    1.3758    0.8460    0.7027    0.0000    0.7594    1.3486    1.3374    1.3418    1.3301  \n",
    "7    1.3606    1.4002    1.4294    1.4902    0.7449    0.5202    0.7594    0.0000    1.4529    1.3674    1.3917    1.3945  \n",
    "8    1.3319    1.3613    1.3718    1.4947    1.4669    1.3832    1.3486    1.4529    0.0000    1.0082    1.0872    1.1591  \n",
    "9    1.4597    1.4762    1.4227    1.3503    1.3798    1.3628    1.3374    1.3674    1.0082    0.0000    0.7111    0.8514  \n",
    "10    1.4316    1.3488    1.3658    1.2989    1.4454    1.3247    1.3418    1.3917    1.0872    0.7111    0.0000    0.8835  \n",
    "11    1.3801    1.3934    1.3440    1.2787    1.4057    1.3329    1.3301    1.3945    1.1591    0.8514    0.8835    0.0000  "
   ]
  },
  {
   "cell_type": "markdown",
   "metadata": {},
   "source": [
    "# 参考\n",
    "[1]davidsandberg/facenet, https://github.com/davidsandberg/facenet\n",
    "\n",
    "[2]FaceNet: A Unified Embedding for Face Recognition and Clustering, https://arxiv.org/pdf/1503.03832.pdf\n",
    "\n",
    "[3]論文輪読資料「FaceNet: A Unified Embedding for Face Recognition and Clustering」,https://www.slideshare.net/kaorunasuno/20150611-nasuno"
   ]
  }
 ],
 "metadata": {
  "kernelspec": {
   "display_name": "Python 3",
   "language": "python",
   "name": "python3"
  },
  "language_info": {
   "codemirror_mode": {
    "name": "ipython",
    "version": 3
   },
   "file_extension": ".py",
   "mimetype": "text/x-python",
   "name": "python",
   "nbconvert_exporter": "python",
   "pygments_lexer": "ipython3",
   "version": "3.6.5"
  }
 },
 "nbformat": 4,
 "nbformat_minor": 2
}
