{
 "cells": [
  {
   "cell_type": "markdown",
   "metadata": {},
   "source": [
    "# SSDによる両手の検出\n",
    "[オリジナルのSSD](https://github.com/pierluigiferrari/ssd_keras)を編集し、手だけを検出するように変更\n",
    "\n",
    "![](./myCameraSSD_class1_hand.png)\n",
    "\n",
    "## SSDとは\n",
    "- Single Shot MultiBox Detector\n",
    "- 画像１枚をSSDのネットワークを通すことで、クラス識別、物体の場所と大きさを特定できる\n",
    "\n",
    "## 方法\n",
    "- オリジナルの20クラス分類に使用したモデルの重みを１クラス用にサブサンプリングし、手の画像を学習\n",
    "- 入力画像サイズはオリジナルと同様に３００ｘ３００とした\n",
    "- 重み更新１回に使用する画像を１０枚とした（３０ではメモリ不足だった）\n",
    "- 学習に使用する画像は左右反転、拡大・縮小、色変換など行い水増しした\n",
    "\n",
    "### 水増し画像の例\n",
    "![](./myplotAugImg_hand_01.png)\n",
    "![](./myplotAugImg_hand_02.png)\n",
    "![](./myplotAugImg_hand_03.png)\n",
    "\n",
    "## データセット\n",
    "- [VOC2012](http://host.robots.ox.ac.uk/pascal/VOC/voc2012/index.html)を使用\n",
    "- COVではすでに手の正解ラベルがxmlで記述されている\n",
    "\n",
    "## 結果\n",
    "- カメラから高い信頼度で手を検出できた\n",
    "- リアルタイムの検出が可能\n",
    "- 1エポック目がベストで過学習になっており、良い学習結果とはいえない\n",
    "\n",
    "![](./mypartsDetectionSSD_class1_training_log.png)"
   ]
  },
  {
   "cell_type": "markdown",
   "metadata": {},
   "source": [
    "![](./mypartsDetectionSSD_class1_training_log.png)"
   ]
  },
  {
   "cell_type": "code",
   "execution_count": null,
   "metadata": {},
   "outputs": [],
   "source": []
  }
 ],
 "metadata": {
  "kernelspec": {
   "display_name": "Python 3",
   "language": "python",
   "name": "python3"
  },
  "language_info": {
   "codemirror_mode": {
    "name": "ipython",
    "version": 3
   },
   "file_extension": ".py",
   "mimetype": "text/x-python",
   "name": "python",
   "nbconvert_exporter": "python",
   "pygments_lexer": "ipython3",
   "version": "3.6.5"
  }
 },
 "nbformat": 4,
 "nbformat_minor": 2
}
